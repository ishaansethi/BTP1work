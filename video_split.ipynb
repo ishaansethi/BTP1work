{
 "cells": [
  {
   "cell_type": "code",
   "execution_count": 7,
   "id": "470f272a-630a-46bd-8ee3-a973ae9fb702",
   "metadata": {},
   "outputs": [
    {
     "name": "stdout",
     "output_type": "stream",
     "text": [
      "1.0127947330474854\n"
     ]
    }
   ],
   "source": [
    "import cv2\n",
    "import os\n",
    "import time\n",
    "\n",
    "st = time.time()\n",
    "video_path = './vid1.avi'\n",
    "frames_path = './frames'\n",
    "video = cv2.VideoCapture(video_path)\n",
    "\n",
    "while True:\n",
    "    image_exists, image = video.read()\n",
    "    cnt = 0\n",
    "    while image_exists is True:\n",
    "        if not os.path.isdir(frames_path):\n",
    "            os.makedirs(frames_path)\n",
    "        cv2.imwrite(frames_path+'/input%03d.png'%cnt, image)\n",
    "        image_exists, image = video.read()\n",
    "        cnt += 1\n",
    "    else:\n",
    "        break\n",
    "end=time.time()\n",
    "print(end-st)\n"
   ]
  },
  {
   "cell_type": "code",
   "execution_count": null,
   "id": "76a32066-b4d2-484b-95d1-80a5228029c5",
   "metadata": {},
   "outputs": [],
   "source": []
  }
 ],
 "metadata": {
  "kernelspec": {
   "display_name": "Python 3 (ipykernel)",
   "language": "python",
   "name": "python3"
  },
  "language_info": {
   "codemirror_mode": {
    "name": "ipython",
    "version": 3
   },
   "file_extension": ".py",
   "mimetype": "text/x-python",
   "name": "python",
   "nbconvert_exporter": "python",
   "pygments_lexer": "ipython3",
   "version": "3.10.6"
  }
 },
 "nbformat": 4,
 "nbformat_minor": 5
}
