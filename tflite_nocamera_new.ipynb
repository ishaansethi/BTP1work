{
 "cells": [
  {
   "cell_type": "code",
   "execution_count": 1,
   "id": "e2cb553d-b7fa-454b-a3be-f6c14d2a9941",
   "metadata": {},
   "outputs": [
    {
     "name": "stderr",
     "output_type": "stream",
     "text": [
      "2023-04-24 17:33:54.249166: I tensorflow/tsl/cuda/cudart_stub.cc:28] Could not find cuda drivers on your machine, GPU will not be used.\n",
      "2023-04-24 17:33:55.837623: I tensorflow/tsl/cuda/cudart_stub.cc:28] Could not find cuda drivers on your machine, GPU will not be used.\n",
      "2023-04-24 17:33:55.838959: I tensorflow/core/platform/cpu_feature_guard.cc:182] This TensorFlow binary is optimized to use available CPU instructions in performance-critical operations.\n",
      "To enable the following instructions: AVX2 FMA, in other operations, rebuild TensorFlow with the appropriate compiler flags.\n",
      "2023-04-24 17:33:58.622227: W tensorflow/compiler/tf2tensorrt/utils/py_utils.cc:38] TF-TRT Warning: Could not find TensorRT\n"
     ]
    }
   ],
   "source": [
    "import os\n",
    "import warnings\n",
    "import cv2\n",
    "import numpy as np\n",
    "#import tflite_runtime.interpreter as tflite\n",
    "import tensorflow as tf\n",
    "import csv\n",
    "import time\n",
    "import timeit\n",
    "warnings.filterwarnings('ignore')\n",
    "cwd = os.getcwd()"
   ]
  },
  {
   "cell_type": "code",
   "execution_count": 2,
   "id": "23d98380-b9f9-492e-a506-fb94e2bb6b8e",
   "metadata": {},
   "outputs": [
    {
     "name": "stderr",
     "output_type": "stream",
     "text": [
      "INFO: Created TensorFlow Lite XNNPACK delegate for CPU.\n"
     ]
    },
    {
     "name": "stdout",
     "output_type": "stream",
     "text": [
      "4.6781768798828125\n"
     ]
    }
   ],
   "source": [
    "start = time.time()\n",
    "MODEL_PATH = './model2apis.tflite'\n",
    "MODEL_NAME = 'model2apis'\n",
    "DETECTION_THRESHOLD = 0.05\n",
    "INPUT_PATH = './frames/input{:03}.png'\n",
    "OUTPUT_PATH = './frames/output{:03}.png'\n",
    "\n",
    "bees_per_frame=[]\n",
    "\n",
    "interpreter = tf.lite.Interpreter(model_path=MODEL_PATH)\n",
    "interpreter.allocate_tensors()\n",
    "signature_fn = interpreter.get_signature_runner()\n",
    "detection_result_image, cnt = [], 0\n",
    "_, input_height, input_width, _ = interpreter.get_input_details()[0]['shape']\n",
    "\n",
    "image_read = cv2.imread\n",
    "image_resize = cv2.resize\n",
    "expand_dims = np.expand_dims\n",
    "uint8 = np.uint8\n",
    "typecast = np.ndarray.astype\n",
    "sqee = np.squeeze\n",
    "draw_rect = cv2.rectangle\n",
    "draw_text = cv2.putText\n",
    "fontt = cv2.FONT_HERSHEY_SIMPLEX\n",
    "append_bees = bees_per_frame.append\n",
    "save_image = cv2.imwrite\n",
    "\n",
    "for i in range(0,101):\n",
    "    img = image_read(INPUT_PATH.format(i)).astype(uint8)\n",
    "\n",
    "    resized_img = expand_dims(image_resize(img, (input_height, input_width), interpolation=cv2.INTER_LINEAR), axis=0)\n",
    "    \n",
    "    output = signature_fn(images=resized_img)\n",
    "    count = int(sqee(output['output_0']))\n",
    "    scores = sqee(output['output_1'])\n",
    "    boxes = sqee(output['output_3'])\n",
    "    results = [{'bounding_box': boxes[i], 'score': scores[i]} for i in range(count) if scores[i] >= DETECTION_THRESHOLD]\n",
    "    for obj in results:\n",
    "        ymin, xmin, ymax, xmax = obj['bounding_box']\n",
    "        xmin = int(xmin * img.shape[1])\n",
    "        xmax = int(xmax * img.shape[1])\n",
    "        ymin = int(ymin * img.shape[0])\n",
    "        ymax = int(ymax * img.shape[0])\n",
    "\n",
    "        draw_rect(img, (xmin, ymin), (xmax, ymax), (255,0,0), 1)\n",
    "        y = ymin - 15 if ymin - 15 > 15 else ymin + 15\n",
    "        label = \"{}: {:.0f}%\".format('APIS', obj['score'] * 100)\n",
    "        draw_text(img,label, (xmin, y), fontt, 0.5, (0,0,0), 1)\n",
    "\n",
    "    save_image(OUTPUT_PATH.format(i), img)\n",
    "\n",
    "    append_bees(len(results))\n",
    "    #print('Image {} done'.format(i))\n",
    "    #os.remove(INPUT_PATH.format(i))\n",
    "\n",
    "write_csv = csv.writer\n",
    "with open('counts', 'w') as myfile:\n",
    "    wr = write_csv(myfile, delimiter = '\\n',quoting=csv.QUOTE_ALL)\n",
    "    wr.writerow(bees_per_frame)\n",
    "end = time.time()\n",
    "print(end-start)\n"
   ]
  },
  {
   "cell_type": "code",
   "execution_count": null,
   "id": "d1866bf6-777d-4473-afc4-feb768128d53",
   "metadata": {},
   "outputs": [],
   "source": []
  }
 ],
 "metadata": {
  "kernelspec": {
   "display_name": "Python 3 (ipykernel)",
   "language": "python",
   "name": "python3"
  },
  "language_info": {
   "codemirror_mode": {
    "name": "ipython",
    "version": 3
   },
   "file_extension": ".py",
   "mimetype": "text/x-python",
   "name": "python",
   "nbconvert_exporter": "python",
   "pygments_lexer": "ipython3",
   "version": "3.10.6"
  }
 },
 "nbformat": 4,
 "nbformat_minor": 5
}
